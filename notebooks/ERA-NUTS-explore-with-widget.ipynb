{
 "cells": [
  {
   "cell_type": "code",
   "execution_count": null,
   "metadata": {
    "ExecuteTime": {
     "end_time": "2019-04-17T09:22:02.106975Z",
     "start_time": "2019-04-17T09:22:01.257262Z"
    }
   },
   "outputs": [],
   "source": [
    "import matplotlib\n",
    "import matplotlib.pyplot as plt\n",
    "import numpy as np\n",
    "import pandas as pd\n",
    "import xarray as xr"
   ]
  },
  {
   "cell_type": "code",
   "execution_count": null,
   "metadata": {
    "ExecuteTime": {
     "end_time": "2019-04-17T09:22:02.862422Z",
     "start_time": "2019-04-17T09:22:02.860349Z"
    }
   },
   "outputs": [],
   "source": [
    "from ipywidgets import interact, IntRangeSlider, ToggleButtons"
   ]
  },
  {
   "cell_type": "code",
   "execution_count": null,
   "metadata": {},
   "outputs": [],
   "source": [
    "# A bit of customisation\n",
    "matplotlib.rcParams['figure.figsize'] = (18.0, 5.0)\n",
    "\n",
    "# %matplotlib inline\n",
    "%config InlineBackend.figure_format='retina'\n",
    "\n",
    "np.set_printoptions(precision=3, suppress=True)  # suppress scientific float notation"
   ]
  },
  {
   "cell_type": "code",
   "execution_count": null,
   "metadata": {
    "ExecuteTime": {
     "end_time": "2019-04-17T09:22:02.127945Z",
     "start_time": "2019-04-17T09:22:02.122036Z"
    }
   },
   "outputs": [],
   "source": [
    "path = r'..'\n",
    "# path = '.'"
   ]
  },
  {
   "cell_type": "markdown",
   "metadata": {},
   "source": [
    "# Load data\n",
    "Load all the files as a single dataset using xarray and its dask capabilities. In this way the files are not loaded in-memory but dask/xarray load them **only** when needed. `mask_and_scale` to True replaces array values equal to `_FillValue` with NA and scale values according to the formula `original_values * scale_factor + add_offset`.\n"
   ]
  },
  {
   "cell_type": "code",
   "execution_count": null,
   "metadata": {
    "ExecuteTime": {
     "end_time": "2019-04-17T09:22:02.350255Z",
     "start_time": "2019-04-17T09:22:02.129529Z"
    }
   },
   "outputs": [],
   "source": [
    "ds = xr.open_mfdataset(path + '/*.nc', mask_and_scale=True)\n",
    "ds"
   ]
  },
  {
   "cell_type": "markdown",
   "metadata": {},
   "source": [
    "# Widget"
   ]
  },
  {
   "cell_type": "markdown",
   "metadata": {},
   "source": [
    "The above selection method allows as to build custom interactive dashboards with a simple jupyter widgets through `ipywidget`. This process is very is simple. You just need to encapsulate you query in a function and decorate it with [interact](https://ipywidgets.readthedocs.io/en/stable/examples/Using%20Interact.html#Basic-interact) by specifying the desired range. Due to xarray and dask's out of core computation, querying and plotting this dataset is almost instant"
   ]
  },
  {
   "cell_type": "code",
   "execution_count": null,
   "metadata": {
    "ExecuteTime": {
     "end_time": "2019-04-17T09:22:03.221021Z",
     "start_time": "2019-04-17T09:22:02.863892Z"
    }
   },
   "outputs": [],
   "source": [
    "@interact(var=list(ds.data_vars), \n",
    "          region=ds.coords['region'].values,\n",
    "          month=(1,12),\n",
    "          year=(1980,2018))\n",
    "def plot_region_month(var, region, year, month):\n",
    "    ds[var].sel(time='{}-{}'.format(year, month), region=region).plot(color='k') # year"
   ]
  },
  {
   "cell_type": "code",
   "execution_count": null,
   "metadata": {
    "ExecuteTime": {
     "end_time": "2019-04-17T09:22:03.221021Z",
     "start_time": "2019-04-17T09:22:02.863892Z"
    }
   },
   "outputs": [],
   "source": [
    "@interact(var=list(ds.data_vars), \n",
    "          region=ds.coords['region'].values,\n",
    "          year_range=IntRangeSlider(min=1980,max=2018),\n",
    "          timestep=ToggleButtons(options=[('week','w'),('month','m'),('year','a')]),\n",
    "          continuous_update=False,\n",
    "         )\n",
    "def plot_region_month(var, region, year_range,timestep='m'):\n",
    "    (ds[var].sel(region=region,\n",
    "                 time=slice(str(year_range[0]), str(year_range[1])))\n",
    "            .resample(time=timestep).mean()\n",
    "            .plot(color='k')\n",
    "    )"
   ]
  },
  {
   "cell_type": "markdown",
   "metadata": {},
   "source": [
    "Querying works also for a selection of regions"
   ]
  },
  {
   "cell_type": "code",
   "execution_count": null,
   "metadata": {
    "ExecuteTime": {
     "end_time": "2019-04-17T09:22:05.540679Z",
     "start_time": "2019-04-17T09:22:03.222583Z"
    }
   },
   "outputs": [],
   "source": [
    "#Extract unique countries by taking the first two characters of all regions\n",
    "countries = set(s[0:2] for s in ds.coords['region'].values)\n",
    "\n",
    "@interact(var=list(ds.data_vars), \n",
    "          region=countries,\n",
    "          month=(1,12),\n",
    "          year=(1980,2018))\n",
    "def plot_region_month(var, region, year, month):\n",
    "    selection = [s for s in ds.coords['region'].values if s[0:2]==region]\n",
    "    ds[var].sel(time='{}-{}'.format(year, month), region=selection).plot.line(x='time')"
   ]
  }
 ],
 "metadata": {
  "kernelspec": {
   "display_name": "Python 3",
   "language": "python",
   "name": "python3"
  },
  "language_info": {
   "codemirror_mode": {
    "name": "ipython",
    "version": 3
   },
   "file_extension": ".py",
   "mimetype": "text/x-python",
   "name": "python",
   "nbconvert_exporter": "python",
   "pygments_lexer": "ipython3",
   "version": "3.7.1"
  },
  "toc": {
   "base_numbering": 1,
   "nav_menu": {},
   "number_sections": true,
   "sideBar": true,
   "skip_h1_title": false,
   "title_cell": "Table of Contents",
   "title_sidebar": "Contents",
   "toc_cell": false,
   "toc_position": {
    "height": "calc(100% - 180px)",
    "left": "10px",
    "top": "150px",
    "width": "311px"
   },
   "toc_section_display": true,
   "toc_window_display": true
  },
  "varInspector": {
   "cols": {
    "lenName": 16,
    "lenType": 16,
    "lenVar": 40
   },
   "kernels_config": {
    "python": {
     "delete_cmd_postfix": "",
     "delete_cmd_prefix": "del ",
     "library": "var_list.py",
     "varRefreshCmd": "print(var_dic_list())"
    },
    "r": {
     "delete_cmd_postfix": ") ",
     "delete_cmd_prefix": "rm(",
     "library": "var_list.r",
     "varRefreshCmd": "cat(var_dic_list()) "
    }
   },
   "types_to_exclude": [
    "module",
    "function",
    "builtin_function_or_method",
    "instance",
    "_Feature"
   ],
   "window_display": false
  }
 },
 "nbformat": 4,
 "nbformat_minor": 2
}
