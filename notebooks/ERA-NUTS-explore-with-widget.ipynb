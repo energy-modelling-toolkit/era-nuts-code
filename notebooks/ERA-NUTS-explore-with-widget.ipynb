{
 "cells": [
  {
   "cell_type": "code",
   "execution_count": 1,
   "metadata": {
    "ExecuteTime": {
     "end_time": "2019-04-17T09:22:02.106975Z",
     "start_time": "2019-04-17T09:22:01.257262Z"
    }
   },
   "outputs": [],
   "source": [
    "import matplotlib\n",
    "import matplotlib.pyplot as plt\n",
    "import numpy as np\n",
    "import pandas as pd\n",
    "import xarray as xr\n",
    "import geopandas as gpd"
   ]
  },
  {
   "cell_type": "code",
   "execution_count": 2,
   "metadata": {
    "ExecuteTime": {
     "end_time": "2019-04-17T09:22:02.862422Z",
     "start_time": "2019-04-17T09:22:02.860349Z"
    }
   },
   "outputs": [],
   "source": [
    "from ipywidgets import interact, IntRangeSlider, ToggleButtons, Play"
   ]
  },
  {
   "cell_type": "code",
   "execution_count": 3,
   "metadata": {},
   "outputs": [],
   "source": [
    "# A bit of customisation\n",
    "matplotlib.rcParams['figure.figsize'] = (18.0, 5.0)\n",
    "\n",
    "# %matplotlib inline\n",
    "%config InlineBackend.figure_format='retina'\n",
    "\n",
    "np.set_printoptions(precision=3, suppress=True)  # suppress scientific float notation"
   ]
  },
  {
   "cell_type": "code",
   "execution_count": 4,
   "metadata": {
    "ExecuteTime": {
     "end_time": "2019-04-17T09:22:02.127945Z",
     "start_time": "2019-04-17T09:22:02.122036Z"
    }
   },
   "outputs": [],
   "source": [
    "path = r'..'\n",
    "# path = '.'\n",
    "map_df = gpd.read_file(\"https://raw.githubusercontent.com/eurostat/Nuts2json/gh-pages/2016/3035/20M/2.json\")"
   ]
  },
  {
   "cell_type": "markdown",
   "metadata": {},
   "source": [
    "# Load data\n",
    "Load all the files as a single dataset using xarray and its dask capabilities. In this way the files are not loaded in-memory but dask/xarray load them **only** when needed. `mask_and_scale` to True replaces array values equal to `_FillValue` with NA and scale values according to the formula `original_values * scale_factor + add_offset`.\n"
   ]
  },
  {
   "cell_type": "code",
   "execution_count": 5,
   "metadata": {
    "ExecuteTime": {
     "end_time": "2019-04-17T09:22:02.350255Z",
     "start_time": "2019-04-17T09:22:02.129529Z"
    }
   },
   "outputs": [
    {
     "data": {
      "text/plain": [
       "<xarray.Dataset>\n",
       "Dimensions:  (region: 309, time: 341880)\n",
       "Coordinates:\n",
       "  * time     (time) datetime64[ns] 1980-01-01 ... 2018-12-31T23:00:00\n",
       "  * region   (region) object 'AL01' 'AL02' 'AL03' ... 'UKM8' 'UKM9' 'UKN0'\n",
       "Data variables:\n",
       "    t2m      (time, region) float32 dask.array<shape=(341880, 309), chunksize=(341880, 309)>"
      ]
     },
     "execution_count": 5,
     "metadata": {},
     "output_type": "execute_result"
    }
   ],
   "source": [
    "ds = xr.open_mfdataset(path + '/*.nc', mask_and_scale=True)\n",
    "ds"
   ]
  },
  {
   "cell_type": "markdown",
   "metadata": {},
   "source": [
    "# Widget"
   ]
  },
  {
   "cell_type": "markdown",
   "metadata": {},
   "source": [
    "The above selection method allows as to build custom interactive dashboards with a simple jupyter widgets through `ipywidget`. This process is very is simple. You just need to encapsulate you query in a function and decorate it with [interact](https://ipywidgets.readthedocs.io/en/stable/examples/Using%20Interact.html#Basic-interact) by specifying the desired range. Due to xarray and dask's out of core computation, querying and plotting this dataset is almost instant"
   ]
  },
  {
   "cell_type": "code",
   "execution_count": 6,
   "metadata": {
    "ExecuteTime": {
     "end_time": "2019-04-17T09:22:03.221021Z",
     "start_time": "2019-04-17T09:22:02.863892Z"
    }
   },
   "outputs": [
    {
     "data": {
      "application/vnd.jupyter.widget-view+json": {
       "model_id": "d15d4d3884b24758acb235ae98f789c0",
       "version_major": 2,
       "version_minor": 0
      },
      "text/plain": [
       "interactive(children=(Dropdown(description='var', options=('t2m',), value='t2m'), Dropdown(description='region…"
      ]
     },
     "metadata": {},
     "output_type": "display_data"
    }
   ],
   "source": [
    "@interact(var=list(ds.data_vars), \n",
    "          region=ds.coords['region'].values,\n",
    "          month=(1,12),\n",
    "          year=(1980,2018))\n",
    "def plot_region_month(var, region, year, month):\n",
    "    ds[var].sel(time='{}-{}'.format(year, month), region=region).plot(color='k') # year"
   ]
  },
  {
   "cell_type": "code",
   "execution_count": 7,
   "metadata": {
    "ExecuteTime": {
     "end_time": "2019-04-17T09:22:03.221021Z",
     "start_time": "2019-04-17T09:22:02.863892Z"
    }
   },
   "outputs": [
    {
     "data": {
      "application/vnd.jupyter.widget-view+json": {
       "model_id": "cb6ffda7cc3f4c6fbe094c13cad38336",
       "version_major": 2,
       "version_minor": 0
      },
      "text/plain": [
       "interactive(children=(Dropdown(description='var', options=('t2m',), value='t2m'), Dropdown(description='region…"
      ]
     },
     "metadata": {},
     "output_type": "display_data"
    }
   ],
   "source": [
    "@interact(var=list(ds.data_vars), \n",
    "          region=ds.coords['region'].values,\n",
    "          year_range=IntRangeSlider(min=1980,max=2018),\n",
    "          timestep=ToggleButtons(options=[('week','w'),('month','m'),('year','a')]),\n",
    "          continuous_update=False,\n",
    "         )\n",
    "def plot_region_month(var, region, year_range,timestep='m'):\n",
    "    (ds[var].sel(region=region,\n",
    "                 time=slice(str(year_range[0]), str(year_range[1])))\n",
    "            .resample(time=timestep).mean()\n",
    "            .plot(color='k')\n",
    "    )"
   ]
  },
  {
   "cell_type": "markdown",
   "metadata": {},
   "source": [
    "Querying works also for a selection of regions"
   ]
  },
  {
   "cell_type": "code",
   "execution_count": 8,
   "metadata": {
    "ExecuteTime": {
     "end_time": "2019-04-17T09:22:05.540679Z",
     "start_time": "2019-04-17T09:22:03.222583Z"
    }
   },
   "outputs": [
    {
     "data": {
      "application/vnd.jupyter.widget-view+json": {
       "model_id": "bfe09283df6e4352b1699056a3205daa",
       "version_major": 2,
       "version_minor": 0
      },
      "text/plain": [
       "interactive(children=(Dropdown(description='var', options=('t2m',), value='t2m'), Dropdown(description='region…"
      ]
     },
     "metadata": {},
     "output_type": "display_data"
    }
   ],
   "source": [
    "#Extract unique countries by taking the first two characters of all regions\n",
    "countries = set(s[0:2] for s in ds.coords['region'].values)\n",
    "\n",
    "@interact(var=list(ds.data_vars), \n",
    "          region=countries,\n",
    "          month=(1,12),\n",
    "          year=(1980,2018))\n",
    "def plot_region_month(var, region, year, month):\n",
    "    selection = [s for s in ds.coords['region'].values if s[0:2]==region]\n",
    "    ds[var].sel(time='{}-{}'.format(year, month), region=selection).plot.line(x='time')"
   ]
  },
  {
   "cell_type": "markdown",
   "metadata": {},
   "source": [
    "Another example using geopandas. Here we plot the mean of each selected month/year per region"
   ]
  },
  {
   "cell_type": "code",
   "execution_count": 9,
   "metadata": {},
   "outputs": [
    {
     "data": {
      "application/vnd.jupyter.widget-view+json": {
       "model_id": "518cd4be015443d19212dfa78824018c",
       "version_major": 2,
       "version_minor": 0
      },
      "text/plain": [
       "interactive(children=(Dropdown(description='var', options=('t2m',), value='t2m'), IntSlider(value=1999, descri…"
      ]
     },
     "metadata": {},
     "output_type": "display_data"
    }
   ],
   "source": [
    "plot_min=dict(t2m=-10)\n",
    "plot_max=dict(t2m=35)\n",
    "\n",
    "@interact(var=list(ds.data_vars), \n",
    "          month=(1,12), \n",
    "          year=(1980,2018), # Play(value=1,min=1,max=12,step=1,description='Loop months'),\n",
    "          continuous_update=False,)\n",
    "def plot_region_month(var, year, month):\n",
    "    fig, ax = plt.subplots(1, figsize=(14, 10))\n",
    "    ax.axis('off')\n",
    "    time_str = '{}-{}'.format(year, month)\n",
    "    a = ds[var].sel(time=time_str).mean(dim='time').to_series().reset_index()\n",
    "    annot_str = '{} \\nMean Temp:${:.3g}^oC$'.format(time_str,a.mean().values[0])\n",
    "    ax.text(.7,0.9,annot_str,fontdict={'fontsize':'xx-large'},transform=ax.transAxes)\n",
    "    \n",
    "    (map_df.merge(a, left_on='id', right_on='region')\n",
    "                  .plot(column=var, cmap='coolwarm', vmin=plot_min.get(var,None),vmax=plot_max.get(var,None),\n",
    "                        linewidth=0.3, edgecolor='0.4',\n",
    "                        ax=ax,legend=True,)\n",
    "                    )\n"
   ]
  },
  {
   "cell_type": "code",
   "execution_count": null,
   "metadata": {},
   "outputs": [],
   "source": []
  }
 ],
 "metadata": {
  "kernelspec": {
   "display_name": "Python 3",
   "language": "python",
   "name": "python3"
  },
  "language_info": {
   "codemirror_mode": {
    "name": "ipython",
    "version": 3
   },
   "file_extension": ".py",
   "mimetype": "text/x-python",
   "name": "python",
   "nbconvert_exporter": "python",
   "pygments_lexer": "ipython3",
   "version": "3.7.3"
  },
  "toc": {
   "base_numbering": 1,
   "nav_menu": {},
   "number_sections": true,
   "sideBar": true,
   "skip_h1_title": false,
   "title_cell": "Table of Contents",
   "title_sidebar": "Contents",
   "toc_cell": false,
   "toc_position": {
    "height": "calc(100% - 180px)",
    "left": "10px",
    "top": "150px",
    "width": "311px"
   },
   "toc_section_display": true,
   "toc_window_display": true
  },
  "varInspector": {
   "cols": {
    "lenName": 16,
    "lenType": 16,
    "lenVar": 40
   },
   "kernels_config": {
    "python": {
     "delete_cmd_postfix": "",
     "delete_cmd_prefix": "del ",
     "library": "var_list.py",
     "varRefreshCmd": "print(var_dic_list())"
    },
    "r": {
     "delete_cmd_postfix": ") ",
     "delete_cmd_prefix": "rm(",
     "library": "var_list.r",
     "varRefreshCmd": "cat(var_dic_list()) "
    }
   },
   "types_to_exclude": [
    "module",
    "function",
    "builtin_function_or_method",
    "instance",
    "_Feature"
   ],
   "window_display": false
  }
 },
 "nbformat": 4,
 "nbformat_minor": 2
}
